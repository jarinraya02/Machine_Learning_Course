{
 "cells": [
  {
   "cell_type": "markdown",
   "id": "8e0ae7c4",
   "metadata": {},
   "source": [
    "# Lenier regression by Gradient Decent"
   ]
  },
  {
   "cell_type": "code",
   "execution_count": 53,
   "id": "96ba2e83",
   "metadata": {},
   "outputs": [],
   "source": [
    "import pandas as pd \n",
    "import numpy as np\n",
    "from matplotlib import pyplot as plt\n",
    "from sklearn.linear_model import LinearRegression"
   ]
  },
  {
   "cell_type": "code",
   "execution_count": 54,
   "id": "1974d8b0",
   "metadata": {},
   "outputs": [],
   "source": [
    "df = pd.read_excel(\"data.xlsx\")"
   ]
  },
  {
   "cell_type": "code",
   "execution_count": 55,
   "id": "ec9fcdeb",
   "metadata": {},
   "outputs": [
    {
     "data": {
      "text/html": [
       "<div>\n",
       "<style scoped>\n",
       "    .dataframe tbody tr th:only-of-type {\n",
       "        vertical-align: middle;\n",
       "    }\n",
       "\n",
       "    .dataframe tbody tr th {\n",
       "        vertical-align: top;\n",
       "    }\n",
       "\n",
       "    .dataframe thead th {\n",
       "        text-align: right;\n",
       "    }\n",
       "</style>\n",
       "<table border=\"1\" class=\"dataframe\">\n",
       "  <thead>\n",
       "    <tr style=\"text-align: right;\">\n",
       "      <th></th>\n",
       "      <th>x</th>\n",
       "      <th>y</th>\n",
       "    </tr>\n",
       "  </thead>\n",
       "  <tbody>\n",
       "    <tr>\n",
       "      <th>0</th>\n",
       "      <td>48.955889</td>\n",
       "      <td>60.723602</td>\n",
       "    </tr>\n",
       "    <tr>\n",
       "      <th>1</th>\n",
       "      <td>44.687196</td>\n",
       "      <td>82.892504</td>\n",
       "    </tr>\n",
       "    <tr>\n",
       "      <th>2</th>\n",
       "      <td>60.297327</td>\n",
       "      <td>97.379897</td>\n",
       "    </tr>\n",
       "    <tr>\n",
       "      <th>3</th>\n",
       "      <td>45.618644</td>\n",
       "      <td>48.847153</td>\n",
       "    </tr>\n",
       "    <tr>\n",
       "      <th>4</th>\n",
       "      <td>38.816818</td>\n",
       "      <td>56.877213</td>\n",
       "    </tr>\n",
       "  </tbody>\n",
       "</table>\n",
       "</div>"
      ],
      "text/plain": [
       "           x          y\n",
       "0  48.955889  60.723602\n",
       "1  44.687196  82.892504\n",
       "2  60.297327  97.379897\n",
       "3  45.618644  48.847153\n",
       "4  38.816818  56.877213"
      ]
     },
     "execution_count": 55,
     "metadata": {},
     "output_type": "execute_result"
    }
   ],
   "source": [
    "df.head()"
   ]
  },
  {
   "cell_type": "code",
   "execution_count": 56,
   "id": "a2bf3495",
   "metadata": {},
   "outputs": [],
   "source": [
    "x=df['x']\n",
    "y=df['y']"
   ]
  },
  {
   "cell_type": "code",
   "execution_count": 57,
   "id": "97819bbe",
   "metadata": {},
   "outputs": [
    {
     "name": "stdout",
     "output_type": "stream",
     "text": [
      "0     48.955889\n",
      "1     44.687196\n",
      "2     60.297327\n",
      "3     45.618644\n",
      "4     38.816818\n",
      "        ...    \n",
      "94    50.030174\n",
      "95    49.239765\n",
      "96    50.039576\n",
      "97    48.149859\n",
      "98    25.128485\n",
      "Name: x, Length: 99, dtype: float64 0     60.723602\n",
      "1     82.892504\n",
      "2     97.379897\n",
      "3     48.847153\n",
      "4     56.877213\n",
      "        ...    \n",
      "94    81.536991\n",
      "95    72.111832\n",
      "96    85.232007\n",
      "97    66.224958\n",
      "98    53.454394\n",
      "Name: y, Length: 99, dtype: float64\n"
     ]
    }
   ],
   "source": [
    "print (x,y)"
   ]
  },
  {
   "cell_type": "code",
   "execution_count": 58,
   "id": "b1a141cd",
   "metadata": {},
   "outputs": [
    {
     "data": {
      "text/plain": [
       "99"
      ]
     },
     "execution_count": 58,
     "metadata": {},
     "output_type": "execute_result"
    }
   ],
   "source": [
    "m=0\n",
    "c=0\n",
    "learning_rate=0.0001\n",
    "\n",
    "n=int(len(x))\n",
    "n"
   ]
  },
  {
   "cell_type": "code",
   "execution_count": 59,
   "id": "eebd4196",
   "metadata": {},
   "outputs": [
    {
     "data": {
      "text/plain": [
       "(99, 2)"
      ]
     },
     "execution_count": 59,
     "metadata": {},
     "output_type": "execute_result"
    }
   ],
   "source": [
    "df.shape"
   ]
  },
  {
   "cell_type": "code",
   "execution_count": 60,
   "id": "15a40cf6",
   "metadata": {},
   "outputs": [
    {
     "name": "stdout",
     "output_type": "stream",
     "text": [
      "1.4796491688881985 0.10148121497503648\n"
     ]
    }
   ],
   "source": [
    "for i in range(1000):\n",
    "    pred = m*x+c\n",
    "    der_m =(-2/n)*sum(x*(y-pred))\n",
    "    der_c =(-2/n)*sum(y-pred)\n",
    "    \n",
    "    m= m-learning_rate*der_m\n",
    "    c= c-learning_rate*der_c\n",
    "    \n",
    "print(m,c)"
   ]
  },
  {
   "cell_type": "code",
   "execution_count": 61,
   "id": "c76ff354",
   "metadata": {},
   "outputs": [
    {
     "data": {
      "text/plain": [
       "57.5367537075595"
      ]
     },
     "execution_count": 61,
     "metadata": {},
     "output_type": "execute_result"
    }
   ],
   "source": [
    "y = m*38.816818+c\n",
    "y"
   ]
  },
  {
   "cell_type": "markdown",
   "id": "4e6853fe",
   "metadata": {},
   "source": [
    "# Multi Variable Regression"
   ]
  },
  {
   "cell_type": "code",
   "execution_count": 62,
   "id": "cde873e5",
   "metadata": {},
   "outputs": [],
   "source": [
    "import seaborn as sns"
   ]
  },
  {
   "cell_type": "code",
   "execution_count": 63,
   "id": "23c7fbfd",
   "metadata": {},
   "outputs": [],
   "source": [
    "df = pd.read_excel(\"insurance.xlsx\")"
   ]
  },
  {
   "cell_type": "code",
   "execution_count": 64,
   "id": "6991269d",
   "metadata": {},
   "outputs": [
    {
     "data": {
      "text/html": [
       "<div>\n",
       "<style scoped>\n",
       "    .dataframe tbody tr th:only-of-type {\n",
       "        vertical-align: middle;\n",
       "    }\n",
       "\n",
       "    .dataframe tbody tr th {\n",
       "        vertical-align: top;\n",
       "    }\n",
       "\n",
       "    .dataframe thead th {\n",
       "        text-align: right;\n",
       "    }\n",
       "</style>\n",
       "<table border=\"1\" class=\"dataframe\">\n",
       "  <thead>\n",
       "    <tr style=\"text-align: right;\">\n",
       "      <th></th>\n",
       "      <th>age</th>\n",
       "      <th>sex</th>\n",
       "      <th>bmi</th>\n",
       "      <th>children</th>\n",
       "      <th>smoker</th>\n",
       "      <th>region</th>\n",
       "      <th>charges</th>\n",
       "    </tr>\n",
       "  </thead>\n",
       "  <tbody>\n",
       "    <tr>\n",
       "      <th>0</th>\n",
       "      <td>19</td>\n",
       "      <td>female</td>\n",
       "      <td>27.900</td>\n",
       "      <td>0</td>\n",
       "      <td>yes</td>\n",
       "      <td>southwest</td>\n",
       "      <td>16884.92400</td>\n",
       "    </tr>\n",
       "    <tr>\n",
       "      <th>1</th>\n",
       "      <td>18</td>\n",
       "      <td>male</td>\n",
       "      <td>33.770</td>\n",
       "      <td>1</td>\n",
       "      <td>no</td>\n",
       "      <td>southeast</td>\n",
       "      <td>1725.55230</td>\n",
       "    </tr>\n",
       "    <tr>\n",
       "      <th>2</th>\n",
       "      <td>28</td>\n",
       "      <td>male</td>\n",
       "      <td>33.000</td>\n",
       "      <td>3</td>\n",
       "      <td>no</td>\n",
       "      <td>southeast</td>\n",
       "      <td>4449.46200</td>\n",
       "    </tr>\n",
       "    <tr>\n",
       "      <th>3</th>\n",
       "      <td>33</td>\n",
       "      <td>male</td>\n",
       "      <td>22.705</td>\n",
       "      <td>0</td>\n",
       "      <td>no</td>\n",
       "      <td>northwest</td>\n",
       "      <td>21984.47061</td>\n",
       "    </tr>\n",
       "    <tr>\n",
       "      <th>4</th>\n",
       "      <td>32</td>\n",
       "      <td>male</td>\n",
       "      <td>28.880</td>\n",
       "      <td>0</td>\n",
       "      <td>no</td>\n",
       "      <td>northwest</td>\n",
       "      <td>3866.85520</td>\n",
       "    </tr>\n",
       "  </tbody>\n",
       "</table>\n",
       "</div>"
      ],
      "text/plain": [
       "   age     sex     bmi  children smoker     region      charges\n",
       "0   19  female  27.900         0    yes  southwest  16884.92400\n",
       "1   18    male  33.770         1     no  southeast   1725.55230\n",
       "2   28    male  33.000         3     no  southeast   4449.46200\n",
       "3   33    male  22.705         0     no  northwest  21984.47061\n",
       "4   32    male  28.880         0     no  northwest   3866.85520"
      ]
     },
     "execution_count": 64,
     "metadata": {},
     "output_type": "execute_result"
    }
   ],
   "source": [
    "df.head()"
   ]
  },
  {
   "cell_type": "code",
   "execution_count": 65,
   "id": "17b17ff7",
   "metadata": {},
   "outputs": [
    {
     "name": "stdout",
     "output_type": "stream",
     "text": [
      "<class 'pandas.core.frame.DataFrame'>\n",
      "RangeIndex: 1338 entries, 0 to 1337\n",
      "Data columns (total 7 columns):\n",
      " #   Column    Non-Null Count  Dtype  \n",
      "---  ------    --------------  -----  \n",
      " 0   age       1338 non-null   int64  \n",
      " 1   sex       1338 non-null   object \n",
      " 2   bmi       1338 non-null   float64\n",
      " 3   children  1338 non-null   int64  \n",
      " 4   smoker    1338 non-null   object \n",
      " 5   region    1338 non-null   object \n",
      " 6   charges   1338 non-null   float64\n",
      "dtypes: float64(2), int64(2), object(3)\n",
      "memory usage: 73.3+ KB\n"
     ]
    }
   ],
   "source": [
    "df.info()"
   ]
  },
  {
   "cell_type": "code",
   "execution_count": 66,
   "id": "cc29f13b",
   "metadata": {},
   "outputs": [
    {
     "data": {
      "text/plain": [
       "age         0\n",
       "sex         0\n",
       "bmi         0\n",
       "children    0\n",
       "smoker      0\n",
       "region      0\n",
       "charges     0\n",
       "dtype: int64"
      ]
     },
     "execution_count": 66,
     "metadata": {},
     "output_type": "execute_result"
    }
   ],
   "source": [
    "df.isna().sum() # isnull = isna"
   ]
  },
  {
   "cell_type": "code",
   "execution_count": 67,
   "id": "5010581c",
   "metadata": {},
   "outputs": [
    {
     "data": {
      "text/plain": [
       "age           47\n",
       "sex            2\n",
       "bmi          548\n",
       "children       6\n",
       "smoker         2\n",
       "region         4\n",
       "charges     1337\n",
       "dtype: int64"
      ]
     },
     "execution_count": 67,
     "metadata": {},
     "output_type": "execute_result"
    }
   ],
   "source": [
    "df.nunique()"
   ]
  },
  {
   "cell_type": "markdown",
   "id": "089853f6",
   "metadata": {},
   "source": [
    "# One Hot (short form)"
   ]
  },
  {
   "cell_type": "code",
   "execution_count": 36,
   "id": "f97c0fdd",
   "metadata": {},
   "outputs": [],
   "source": [
    "from sklearn.preprocessing import OrdinalEncoder\n",
    "od = OrdinalEncoder(dtype= int)"
   ]
  },
  {
   "cell_type": "code",
   "execution_count": 27,
   "id": "bc8aa424",
   "metadata": {},
   "outputs": [],
   "source": [
    "df= pd.get_dummies(df,drop_first='True',dtype= int)"
   ]
  },
  {
   "cell_type": "code",
   "execution_count": 28,
   "id": "dff5c129",
   "metadata": {},
   "outputs": [
    {
     "data": {
      "text/html": [
       "<div>\n",
       "<style scoped>\n",
       "    .dataframe tbody tr th:only-of-type {\n",
       "        vertical-align: middle;\n",
       "    }\n",
       "\n",
       "    .dataframe tbody tr th {\n",
       "        vertical-align: top;\n",
       "    }\n",
       "\n",
       "    .dataframe thead th {\n",
       "        text-align: right;\n",
       "    }\n",
       "</style>\n",
       "<table border=\"1\" class=\"dataframe\">\n",
       "  <thead>\n",
       "    <tr style=\"text-align: right;\">\n",
       "      <th></th>\n",
       "      <th>age</th>\n",
       "      <th>bmi</th>\n",
       "      <th>children</th>\n",
       "      <th>charges</th>\n",
       "      <th>sex_male</th>\n",
       "      <th>smoker_yes</th>\n",
       "      <th>region_northwest</th>\n",
       "      <th>region_southeast</th>\n",
       "      <th>region_southwest</th>\n",
       "    </tr>\n",
       "  </thead>\n",
       "  <tbody>\n",
       "    <tr>\n",
       "      <th>0</th>\n",
       "      <td>19</td>\n",
       "      <td>27.900</td>\n",
       "      <td>0</td>\n",
       "      <td>16884.92400</td>\n",
       "      <td>False</td>\n",
       "      <td>True</td>\n",
       "      <td>False</td>\n",
       "      <td>False</td>\n",
       "      <td>True</td>\n",
       "    </tr>\n",
       "    <tr>\n",
       "      <th>1</th>\n",
       "      <td>18</td>\n",
       "      <td>33.770</td>\n",
       "      <td>1</td>\n",
       "      <td>1725.55230</td>\n",
       "      <td>True</td>\n",
       "      <td>False</td>\n",
       "      <td>False</td>\n",
       "      <td>True</td>\n",
       "      <td>False</td>\n",
       "    </tr>\n",
       "    <tr>\n",
       "      <th>2</th>\n",
       "      <td>28</td>\n",
       "      <td>33.000</td>\n",
       "      <td>3</td>\n",
       "      <td>4449.46200</td>\n",
       "      <td>True</td>\n",
       "      <td>False</td>\n",
       "      <td>False</td>\n",
       "      <td>True</td>\n",
       "      <td>False</td>\n",
       "    </tr>\n",
       "    <tr>\n",
       "      <th>3</th>\n",
       "      <td>33</td>\n",
       "      <td>22.705</td>\n",
       "      <td>0</td>\n",
       "      <td>21984.47061</td>\n",
       "      <td>True</td>\n",
       "      <td>False</td>\n",
       "      <td>True</td>\n",
       "      <td>False</td>\n",
       "      <td>False</td>\n",
       "    </tr>\n",
       "    <tr>\n",
       "      <th>4</th>\n",
       "      <td>32</td>\n",
       "      <td>28.880</td>\n",
       "      <td>0</td>\n",
       "      <td>3866.85520</td>\n",
       "      <td>True</td>\n",
       "      <td>False</td>\n",
       "      <td>True</td>\n",
       "      <td>False</td>\n",
       "      <td>False</td>\n",
       "    </tr>\n",
       "  </tbody>\n",
       "</table>\n",
       "</div>"
      ],
      "text/plain": [
       "   age     bmi  children      charges  sex_male  smoker_yes  region_northwest   \n",
       "0   19  27.900         0  16884.92400     False        True             False  \\\n",
       "1   18  33.770         1   1725.55230      True       False             False   \n",
       "2   28  33.000         3   4449.46200      True       False             False   \n",
       "3   33  22.705         0  21984.47061      True       False              True   \n",
       "4   32  28.880         0   3866.85520      True       False              True   \n",
       "\n",
       "   region_southeast  region_southwest  \n",
       "0             False              True  \n",
       "1              True             False  \n",
       "2              True             False  \n",
       "3             False             False  \n",
       "4             False             False  "
      ]
     },
     "execution_count": 28,
     "metadata": {},
     "output_type": "execute_result"
    }
   ],
   "source": [
    "df.head()"
   ]
  },
  {
   "cell_type": "code",
   "execution_count": 43,
   "id": "01bf9b5f",
   "metadata": {},
   "outputs": [
    {
     "name": "stdout",
     "output_type": "stream",
     "text": [
      "      age     bmi  children      charges  sex_male_False  sex_male_True   \n",
      "0      19  27.900         0  16884.92400               1              0  \\\n",
      "1      18  33.770         1   1725.55230               0              1   \n",
      "2      28  33.000         3   4449.46200               0              1   \n",
      "3      33  22.705         0  21984.47061               0              1   \n",
      "4      32  28.880         0   3866.85520               0              1   \n",
      "...   ...     ...       ...          ...             ...            ...   \n",
      "1333   50  30.970         3  10600.54830               0              1   \n",
      "1334   18  31.920         0   2205.98080               1              0   \n",
      "1335   18  36.850         0   1629.83350               1              0   \n",
      "1336   21  25.800         0   2007.94500               1              0   \n",
      "1337   61  29.070         0  29141.36030               1              0   \n",
      "\n",
      "      smoker_yes_False  smoker_yes_True  region_northwest_False   \n",
      "0                    0                1                       1  \\\n",
      "1                    1                0                       1   \n",
      "2                    1                0                       1   \n",
      "3                    1                0                       0   \n",
      "4                    1                0                       0   \n",
      "...                ...              ...                     ...   \n",
      "1333                 1                0                       0   \n",
      "1334                 1                0                       1   \n",
      "1335                 1                0                       1   \n",
      "1336                 1                0                       1   \n",
      "1337                 0                1                       0   \n",
      "\n",
      "      region_northwest_True  region_southeast_False  region_southeast_True   \n",
      "0                         0                       1                      0  \\\n",
      "1                         0                       0                      1   \n",
      "2                         0                       0                      1   \n",
      "3                         1                       1                      0   \n",
      "4                         1                       1                      0   \n",
      "...                     ...                     ...                    ...   \n",
      "1333                      1                       1                      0   \n",
      "1334                      0                       1                      0   \n",
      "1335                      0                       0                      1   \n",
      "1336                      0                       1                      0   \n",
      "1337                      1                       1                      0   \n",
      "\n",
      "      region_southwest_False  region_southwest_True  \n",
      "0                          0                      1  \n",
      "1                          1                      0  \n",
      "2                          1                      0  \n",
      "3                          1                      0  \n",
      "4                          1                      0  \n",
      "...                      ...                    ...  \n",
      "1333                       1                      0  \n",
      "1334                       1                      0  \n",
      "1335                       1                      0  \n",
      "1336                       0                      1  \n",
      "1337                       1                      0  \n",
      "\n",
      "[1338 rows x 14 columns]\n"
     ]
    }
   ],
   "source": [
    "one_hot_encoded_data = pd.get_dummies(df, columns = ['sex_male', 'smoker_yes','region_northwest','region_southeast','region_southwest'],dtype=int)\n",
    "print(one_hot_encoded_data)"
   ]
  },
  {
   "cell_type": "code",
   "execution_count": 51,
   "id": "520c6d84",
   "metadata": {},
   "outputs": [],
   "source": [
    "df =one_hot_encoded_data"
   ]
  },
  {
   "cell_type": "code",
   "execution_count": 52,
   "id": "78d48261",
   "metadata": {},
   "outputs": [
    {
     "data": {
      "text/html": [
       "<div>\n",
       "<style scoped>\n",
       "    .dataframe tbody tr th:only-of-type {\n",
       "        vertical-align: middle;\n",
       "    }\n",
       "\n",
       "    .dataframe tbody tr th {\n",
       "        vertical-align: top;\n",
       "    }\n",
       "\n",
       "    .dataframe thead th {\n",
       "        text-align: right;\n",
       "    }\n",
       "</style>\n",
       "<table border=\"1\" class=\"dataframe\">\n",
       "  <thead>\n",
       "    <tr style=\"text-align: right;\">\n",
       "      <th></th>\n",
       "      <th>age</th>\n",
       "      <th>bmi</th>\n",
       "      <th>children</th>\n",
       "      <th>charges</th>\n",
       "      <th>sex_male_False</th>\n",
       "      <th>sex_male_True</th>\n",
       "      <th>smoker_yes_False</th>\n",
       "      <th>smoker_yes_True</th>\n",
       "      <th>region_northwest_False</th>\n",
       "      <th>region_northwest_True</th>\n",
       "      <th>region_southeast_False</th>\n",
       "      <th>region_southeast_True</th>\n",
       "      <th>region_southwest_False</th>\n",
       "      <th>region_southwest_True</th>\n",
       "    </tr>\n",
       "  </thead>\n",
       "  <tbody>\n",
       "    <tr>\n",
       "      <th>0</th>\n",
       "      <td>19</td>\n",
       "      <td>27.900</td>\n",
       "      <td>0</td>\n",
       "      <td>16884.92400</td>\n",
       "      <td>1</td>\n",
       "      <td>0</td>\n",
       "      <td>0</td>\n",
       "      <td>1</td>\n",
       "      <td>1</td>\n",
       "      <td>0</td>\n",
       "      <td>1</td>\n",
       "      <td>0</td>\n",
       "      <td>0</td>\n",
       "      <td>1</td>\n",
       "    </tr>\n",
       "    <tr>\n",
       "      <th>1</th>\n",
       "      <td>18</td>\n",
       "      <td>33.770</td>\n",
       "      <td>1</td>\n",
       "      <td>1725.55230</td>\n",
       "      <td>0</td>\n",
       "      <td>1</td>\n",
       "      <td>1</td>\n",
       "      <td>0</td>\n",
       "      <td>1</td>\n",
       "      <td>0</td>\n",
       "      <td>0</td>\n",
       "      <td>1</td>\n",
       "      <td>1</td>\n",
       "      <td>0</td>\n",
       "    </tr>\n",
       "    <tr>\n",
       "      <th>2</th>\n",
       "      <td>28</td>\n",
       "      <td>33.000</td>\n",
       "      <td>3</td>\n",
       "      <td>4449.46200</td>\n",
       "      <td>0</td>\n",
       "      <td>1</td>\n",
       "      <td>1</td>\n",
       "      <td>0</td>\n",
       "      <td>1</td>\n",
       "      <td>0</td>\n",
       "      <td>0</td>\n",
       "      <td>1</td>\n",
       "      <td>1</td>\n",
       "      <td>0</td>\n",
       "    </tr>\n",
       "    <tr>\n",
       "      <th>3</th>\n",
       "      <td>33</td>\n",
       "      <td>22.705</td>\n",
       "      <td>0</td>\n",
       "      <td>21984.47061</td>\n",
       "      <td>0</td>\n",
       "      <td>1</td>\n",
       "      <td>1</td>\n",
       "      <td>0</td>\n",
       "      <td>0</td>\n",
       "      <td>1</td>\n",
       "      <td>1</td>\n",
       "      <td>0</td>\n",
       "      <td>1</td>\n",
       "      <td>0</td>\n",
       "    </tr>\n",
       "    <tr>\n",
       "      <th>4</th>\n",
       "      <td>32</td>\n",
       "      <td>28.880</td>\n",
       "      <td>0</td>\n",
       "      <td>3866.85520</td>\n",
       "      <td>0</td>\n",
       "      <td>1</td>\n",
       "      <td>1</td>\n",
       "      <td>0</td>\n",
       "      <td>0</td>\n",
       "      <td>1</td>\n",
       "      <td>1</td>\n",
       "      <td>0</td>\n",
       "      <td>1</td>\n",
       "      <td>0</td>\n",
       "    </tr>\n",
       "  </tbody>\n",
       "</table>\n",
       "</div>"
      ],
      "text/plain": [
       "   age     bmi  children      charges  sex_male_False  sex_male_True   \n",
       "0   19  27.900         0  16884.92400               1              0  \\\n",
       "1   18  33.770         1   1725.55230               0              1   \n",
       "2   28  33.000         3   4449.46200               0              1   \n",
       "3   33  22.705         0  21984.47061               0              1   \n",
       "4   32  28.880         0   3866.85520               0              1   \n",
       "\n",
       "   smoker_yes_False  smoker_yes_True  region_northwest_False   \n",
       "0                 0                1                       1  \\\n",
       "1                 1                0                       1   \n",
       "2                 1                0                       1   \n",
       "3                 1                0                       0   \n",
       "4                 1                0                       0   \n",
       "\n",
       "   region_northwest_True  region_southeast_False  region_southeast_True   \n",
       "0                      0                       1                      0  \\\n",
       "1                      0                       0                      1   \n",
       "2                      0                       0                      1   \n",
       "3                      1                       1                      0   \n",
       "4                      1                       1                      0   \n",
       "\n",
       "   region_southwest_False  region_southwest_True  \n",
       "0                       0                      1  \n",
       "1                       1                      0  \n",
       "2                       1                      0  \n",
       "3                       1                      0  \n",
       "4                       1                      0  "
      ]
     },
     "execution_count": 52,
     "metadata": {},
     "output_type": "execute_result"
    }
   ],
   "source": [
    "df.head()"
   ]
  },
  {
   "cell_type": "code",
   "execution_count": null,
   "id": "c10a8088",
   "metadata": {},
   "outputs": [],
   "source": []
  }
 ],
 "metadata": {
  "kernelspec": {
   "display_name": "Python 3 (ipykernel)",
   "language": "python",
   "name": "python3"
  },
  "language_info": {
   "codemirror_mode": {
    "name": "ipython",
    "version": 3
   },
   "file_extension": ".py",
   "mimetype": "text/x-python",
   "name": "python",
   "nbconvert_exporter": "python",
   "pygments_lexer": "ipython3",
   "version": "3.10.5"
  }
 },
 "nbformat": 4,
 "nbformat_minor": 5
}
